{
 "cells": [
  {
   "cell_type": "markdown",
   "metadata": {},
   "source": [
    "<hr><hr><hr><hr><h1># A simple text-based game of hangman<h1><hr><hr><hr>"
   ]
  },
  {
   "cell_type": "code",
   "execution_count": null,
   "metadata": {
    "collapsed": false
   },
   "outputs": [],
   "source": [
    "# -*- coding: utf-8 -*-\n",
    "\"\"\"A simple text-based game of hangman\n",
    "\n",
    "A re-implementation of Hangman 3-liner in more idiomatic Python 3\n",
    "Original: http://danverbraganza.com/writings/hangman-in-3-lines-of-python\n",
    "\n",
    "Requirements:\n",
    "  A dictionary file at /usr/share/dict/words\n",
    "\n",
    "Usage:\n",
    "  $ python hangman.py\n",
    "\n",
    "Released under the MIT License. (Re)written by Arun Ravindran http://arunrocks.com\n",
    "\n",
    "\"\"\"\n",
    "\n",
    "import random\n",
    "\n",
    "DICT = 'temp.txt'\n",
    "chosen_word = random.choice(open(DICT).readlines()).upper().strip()\n",
    "guesses = set()\n",
    "scaffold = \"\"\"\n",
    "|======\n",
    "|   |\n",
    "| {3} {0} {5}\n",
    "|  {2}{1}{4}\n",
    "|  {6} {7}\n",
    "|  {8} {9}\n",
    "|\n",
    "\"\"\"\n",
    "man = list('OT-\\\\-//\\\\||')\n",
    "guesses_left = len(man)\n",
    "\n",
    "while not guesses.issuperset(chosen_word) and guesses_left:\n",
    "    print(\"{} ({} guesses left)\".format(','.join(sorted(guesses)), guesses_left))\n",
    "    print(scaffold.format(*(man[:-guesses_left] + [' '] * guesses_left)))\n",
    "    print(' '.join(letter if letter in guesses else '_' for letter in chosen_word))\n",
    "    guesses.update(c.upper() for c in input() if str.isalpha(c))\n",
    "    guesses_left = max(len(man) - len(guesses - set(chosen_word)), 0)\n",
    "\n",
    "if guesses_left > 0:\n",
    "    print(\"You win!\")\n",
    "else:\n",
    "    print(\"You lose!\\n{}\\nHANGED!\".format(scaffold.format(*man)))\n",
    "print(\"Word was\", chosen_word)"
   ]
  },
  {
   "cell_type": "code",
   "execution_count": null,
   "metadata": {
    "collapsed": true
   },
   "outputs": [],
   "source": []
  }
 ],
 "metadata": {
  "kernelspec": {
   "display_name": "Python 3",
   "language": "python",
   "name": "python3"
  },
  "language_info": {
   "codemirror_mode": {
    "name": "ipython",
    "version": 3
   },
   "file_extension": ".py",
   "mimetype": "text/x-python",
   "name": "python",
   "nbconvert_exporter": "python",
   "pygments_lexer": "ipython3",
   "version": "3.5.1"
  }
 },
 "nbformat": 4,
 "nbformat_minor": 0
}
